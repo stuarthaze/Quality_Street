{
 "cells": [
  {
   "cell_type": "markdown",
   "id": "60e31cd3",
   "metadata": {},
   "source": [
    "# Sweets selection problem\n",
    "***\n",
    "Let's return to the specific case shown below and ask:   \n",
    "**Q: Is it likely that this distribution came from a uniform random selection?**\n",
    "\n",
    "To answer this we need to formulate a null hypothesis and an alternative hypothesis.   \n",
    "* Null hypothesis: $H_0$: The distribution is uniform\n",
    "* Alternative hypothesis: $H_A$: The probablity is skewed\n",
    "\n",
    "In order to test this, we need a measure of 'squewedness'. We can define this as the sum of deviations from a uniform distribution, ie:\n",
    "\n",
    "$$ s = \\sum_i^c |n_i - \\bar n| $$\n",
    "\n",
    "Where:\n",
    "* $s$ is skew\n",
    "* $i$ is the category index\n",
    "* $N$ is total number of sweets\n",
    "* $c$ is number of categories\n",
    "* $n_i$ is the number in a category\n",
    "* $\\bar n = \\frac{N}{c}$ is the mean number\n",
    "\n",
    "<img src='Sweet_selection.jpg' width=\"600\" />\n",
    "\n",
    "Calculating this for the original image:"
   ]
  },
  {
   "cell_type": "code",
   "execution_count": 1,
   "id": "8b567f96",
   "metadata": {},
   "outputs": [
    {
     "name": "stdout",
     "output_type": "stream",
     "text": [
      "84\n"
     ]
    }
   ],
   "source": [
    "c = 11\n",
    "n = [12, 11, 10, 10, 9, 7, 7, 6, 4, 4, 4]\n",
    "import numpy as np\n",
    "n = np.array(n)\n",
    "N = n.sum()\n",
    "print(N)"
   ]
  },
  {
   "cell_type": "code",
   "execution_count": 2,
   "id": "8177639f",
   "metadata": {},
   "outputs": [
    {
     "data": {
      "text/plain": [
       "27.636363636363637"
      ]
     },
     "execution_count": 2,
     "metadata": {},
     "output_type": "execute_result"
    }
   ],
   "source": [
    "n_bar = N/c\n",
    "s_img = np.sum(np.abs(n-n_bar))\n",
    "s_img"
   ]
  },
  {
   "cell_type": "markdown",
   "id": "2136f121",
   "metadata": {},
   "source": [
    "Now simulate the distribution"
   ]
  },
  {
   "cell_type": "code",
   "execution_count": 3,
   "id": "40925d8f",
   "metadata": {},
   "outputs": [
    {
     "data": {
      "text/plain": [
       "(10000, 11)"
      ]
     },
     "execution_count": 3,
     "metadata": {},
     "output_type": "execute_result"
    }
   ],
   "source": [
    "np.random.seed(1)\n",
    "n_reps = 10000\n",
    "probs = [1/11.]*11\n",
    "n_sim = np.random.multinomial(N, probs, size = n_reps)\n",
    "n_sim.shape"
   ]
  },
  {
   "cell_type": "code",
   "execution_count": 4,
   "id": "ff95d92f",
   "metadata": {},
   "outputs": [],
   "source": [
    "s_sim = np.sum(np.abs(n_sim-n_bar), axis=1)"
   ]
  },
  {
   "cell_type": "code",
   "execution_count": 17,
   "id": "cc8e1da0",
   "metadata": {},
   "outputs": [
    {
     "data": {
      "image/png": "[encoded data removed]",
      "text/plain": [
       "<Figure size 576x396 with 1 Axes>"
      ]
     },
     "metadata": {},
     "output_type": "display_data"
    }
   ],
   "source": [
    "# Display a histogram of results\n",
    "import matplotlib.pyplot as plt\n",
    "plt.style.use('seaborn')\n",
    "fig, ax = plt.subplots()\n",
    "ax.hist(s_sim, bins=30, density=True)\n",
    "ax.axvline(s_img, linestyle='--', color='red', label='observed')\n",
    "ax.legend()\n",
    "ax.set_xlabel('skew'); ax.set_ylabel('Probability density')\n",
    "plt.show()"
   ]
  },
  {
   "cell_type": "markdown",
   "id": "d009ba55",
   "metadata": {},
   "source": [
    "Here we see that our simulated sample is, on average, to the left of the observed value, shown as the red dashed line, but let's calculate a p-value"
   ]
  },
  {
   "cell_type": "code",
   "execution_count": 6,
   "id": "db8aac1b",
   "metadata": {},
   "outputs": [
    {
     "data": {
      "text/plain": [
       "0.1914"
      ]
     },
     "execution_count": 6,
     "metadata": {},
     "output_type": "execute_result"
    }
   ],
   "source": [
    "p_value = np.sum(s_sim > s_img)/n_reps\n",
    "p_value"
   ]
  },
  {
   "cell_type": "markdown",
   "id": "61d65b63",
   "metadata": {},
   "source": [
    "Our p-value is too high to reject the null hypothesis that the observation came from a uniform distribution beyond any reasonable doubt. However, if we had to choose which hypothesis is more likely, given only this information, then we could take the alternative hypothesis, albeit with a great deal of caution."
   ]
  },
  {
   "cell_type": "code",
   "execution_count": 19,
   "id": "189700e2",
   "metadata": {},
   "outputs": [],
   "source": [
    "fig.savefig('skew_probability.png', dpi=300)"
   ]
  },
  {
   "cell_type": "code",
   "execution_count": null,
   "id": "80073680",
   "metadata": {},
   "outputs": [],
   "source": []
  }
 ],
 "metadata": {
  "kernelspec": {
   "display_name": "Python 3 (ipykernel)",
   "language": "python",
   "name": "python3"
  },
  "language_info": {
   "codemirror_mode": {
    "name": "ipython",
    "version": 3
   },
   "file_extension": ".py",
   "mimetype": "text/x-python",
   "name": "python",
   "nbconvert_exporter": "python",
   "pygments_lexer": "ipython3",
   "version": "3.9.12"
  }
 },
 "nbformat": 4,
 "nbformat_minor": 5
}
